{
 "cells": [
  {
   "cell_type": "markdown",
   "id": "dcd25ccb-5a1e-4602-97a0-d66f31f18a7c",
   "metadata": {},
   "source": [
    "# WORDLE Breaker"
   ]
  },
  {
   "cell_type": "markdown",
   "id": "05a0cd8a-6b9a-4be9-857c-ffcdd202de7a",
   "metadata": {
    "tags": []
   },
   "source": [
    "### https://www.powerlanguage.co.uk/wordle/  "
   ]
  },
  {
   "cell_type": "code",
   "execution_count": null,
   "id": "787e3df5-5fdb-46ae-b7e4-77e029db85d8",
   "metadata": {
    "tags": []
   },
   "outputs": [],
   "source": [
    "import re\n",
    "import pandas as pd\n",
    "pd.options.mode.chained_assignment = None  # default='warn'"
   ]
  },
  {
   "cell_type": "code",
   "execution_count": null,
   "id": "6a57db58",
   "metadata": {
    "tags": []
   },
   "outputs": [],
   "source": [
    "def special_match(pattern, strg):\n",
    "    result = re.match(pattern, strg)\n",
    "    return result is not None\n"
   ]
  },
  {
   "cell_type": "code",
   "execution_count": null,
   "id": "2f3e0006",
   "metadata": {
    "tags": []
   },
   "outputs": [],
   "source": [
    "def break_wordle(attempts, word_lengh, dictionary):\n",
    "   \n",
    "    \n",
    "    correct_pos_list = [] \n",
    "    incorrect_pos_list = [] \n",
    "    exist_in_list  = []\n",
    "    not_exist_list = [\".\"]\n",
    "    not_recognized_word_list = []    \n",
    "    try_list = []\n",
    "    regex_list = []\n",
    "    \n",
    "    correct_pos_list    = [\"a-z\"] * word_lengh\n",
    "    incorrect_pos_list  = [\"a-z\"] * word_lengh\n",
    "\n",
    "    correct_pos_rex   = \"^\"+ \"\".join( \"[\" + str(x) +\"]\" for x in correct_pos_list ) +\"$\"\n",
    "    incorrect_pos_rex = \"^\"+ \"\".join( \"[\" + str(x) +\"]\" for x in incorrect_pos_list ) +\"$\"\n",
    "    exist_in_rex      = \"^.*\" + \"\".join( \"(?=.*[\" + str(x) +\"])\" for x in exist_in_list )  +\".*\"\n",
    "    not_exist_rex     = \"^.*(?=.*[\" + \"\".join(str(x) for x in not_exist_list )  +\"]).*\"\n",
    "    \n",
    "\n",
    "    for i in range(attempts):        \n",
    "        print(\"\\n###############################################################################################\")\n",
    "        print(f'''Attempt {i+1}:''')\n",
    "        \n",
    "        print(f'''\\nRegex Used:\n",
    "        Correct Pos:          {correct_pos_rex}                    \n",
    "        InCorrect Pos:        {incorrect_pos_rex}                    \n",
    "        Contain:              {exist_in_rex}\n",
    "        Does not Contain:     {not_exist_rex}\n",
    "        Not Recognized words: {not_recognized_word_list}\n",
    "        ''')\n",
    "\n",
    "        if (i==0):\n",
    "            newWordList = dictionary[dictionary[0].str.contains(correct_pos_rex)==True]\n",
    "        else:\n",
    "            newWordList = newWordList[newWordList[0].str.contains(correct_pos_rex)==True]\n",
    "        newWordList = newWordList[newWordList[0].str.contains(incorrect_pos_rex)==True]\n",
    "        newWordList = newWordList[newWordList[0].str.contains(exist_in_rex)==True]\n",
    "        newWordList = newWordList[newWordList[0].str.contains(not_exist_rex)==False]\n",
    "        newWordList = newWordList[newWordList[0].isin(not_recognized_word_list)==False]\n",
    "        \n",
    "        regex_list.append([correct_pos_rex, incorrect_pos_rex, exist_in_rex, not_exist_rex])\n",
    "       \n",
    "        if (i==0):\n",
    "            newWordList[\"var\"]=newWordList.apply(lambda x: 1-(sum([1 for y in x[0] if (x[0].count(y)-1) > 0]) / len(x[0])) , axis=1)\n",
    "            newWordList[\"weight\"]=newWordList.apply(lambda x: sum([1.5 for y in x[0] if y in ['e', 'a', 'i', 'o']]) + sum([1 for y in x[0] if y in ['t', 'n', 's', 'h', 'r']]), axis=1)\n",
    "        \n",
    "        newWordList =newWordList.sort_values([\"var\", \"weight\"], ascending=False)\n",
    "\n",
    "                \n",
    "        if (len(newWordList) > 0 ):\n",
    "            str_try = newWordList.head(1)[0].item()\n",
    "        else:\n",
    "            print(\"\\nDictionary empty. You lose\")\n",
    "            return\n",
    "       \n",
    "        if (len(newWordList) > 1 ):\n",
    "            print(f'''Try the word: {str_try} (1 of {len(newWordList)} or {\"{:.2f}\".format(((1/len(newWordList))*100))}% of success)''')\n",
    "        else:\n",
    "            print(f'''The word (probably) is: {str_try} (1 of {len(newWordList)} or {\"{:.2f}\".format(((1/len(newWordList))*100))}% of success)''')\n",
    "\n",
    "        resp = \"\"\n",
    "        while len(resp) != word_lengh or special_match(f'''^[r|g|y]{{{word_lengh}}}$''',resp)==False:\n",
    "            resp = input(f'''Enter {word_lengh} char sequence (no spaces)\n",
    "                            \"g\" - green \n",
    "                            \"y\" - yellow \n",
    "                            \"r\" - gray\n",
    "                            'x' - not recognized word: ''')\n",
    "            if (resp==\"x\"):\n",
    "                not_recognized_word_list.append(str_try)\n",
    "                newWordList = newWordList[newWordList[0].isin(not_recognized_word_list)==False]\n",
    "                str_try = newWordList.head(1)[0].item()                \n",
    "                print(f'''\\nNew word on Attempt {i+1}''')\n",
    "                print(f'''Try the word: {str_try} (1 of {len(newWordList)} or {\"{:.2f}\".format(((1/len(newWordList))*100))}% of success)''')\n",
    "            else:\n",
    "                if (str_try not in try_list):\n",
    "                    try_list.append(str_try)\n",
    "                \n",
    "            \n",
    "        if (resp == 'g' * word_lengh):\n",
    "            print(\"\\nCongrats, you won!\")\n",
    "            for x in range(len(try_list)):\n",
    "                print(f'''\n",
    "Word: {try_list[x]}\n",
    "Regex Used:\n",
    "    Correct Pos:     {regex_list[x][0]}                    \n",
    "    InCorrect Pos:   {regex_list[x][1]}                    \n",
    "    Contain:         {regex_list[x][2]}\n",
    "    Does not Contain:{regex_list[x][3]}\n",
    "    List of not recognized words tried:\n",
    "        {not_recognized_word_list} ''')            \n",
    "            return\n",
    "        \n",
    "        for i in range(len(resp)):   \n",
    "            if resp[i] == 'g':\n",
    "                correct_pos_list[i] = str_try[i]\n",
    "            if resp[i] == 'r':\n",
    "                if (not_exist_list[0] == \".\"):\n",
    "                    not_exist_list[0] = str_try[i]\n",
    "                else:\n",
    "                    not_exist_list.append(str_try[i])\n",
    "            if resp[i] == 'y':\n",
    "                if (incorrect_pos_list[i] == \"a-z\"):\n",
    "                    incorrect_pos_list[i] = \"^\" + str_try[i]\n",
    "                else:\n",
    "                    incorrect_pos_list[i] = incorrect_pos_list[i] + str_try[i]                     \n",
    "                \n",
    "                if (str_try[i] not in exist_in_list):\n",
    "                    exist_in_list.append(str_try[i])\n",
    "        \n",
    "        temp_list = not_exist_list.copy()\n",
    "        for i in range(len(not_exist_list)):\n",
    "            if (not_exist_list[i] in correct_pos_list):\n",
    "                temp_list.remove(not_exist_list[i])\n",
    "                y =  correct_pos_list.index(not_exist_list[i])\n",
    "                for x in range(len(incorrect_pos_list)):              \n",
    "                    if (x != y):\n",
    "                        if (incorrect_pos_list[x] == \"a-z\"):\n",
    "                            incorrect_pos_list[x] = \"^\" + not_exist_list[i]\n",
    "                        else:\n",
    "                            incorrect_pos_list[x] = incorrect_pos_list[x] + not_exist_list[i]                     \n",
    "                \n",
    "                    \n",
    "        \n",
    "        not_exist_list = temp_list.copy()\n",
    "        \n",
    "        \n",
    "        correct_pos_rex   = \"^\"+ \"\".join( \"[\" + str(x) +\"]\" for x in correct_pos_list ) +\"$\"\n",
    "        incorrect_pos_rex = \"^\"+ \"\".join( \"[\" + str(x) +\"]\" for x in incorrect_pos_list ) +\"$\"\n",
    "        exist_in_rex      = \"^.*\" + \"\".join( \"(?=.*[\" + str(x) +\"])\" for x in exist_in_list )  +\".*\"\n",
    "        not_exist_rex     = \"^.*(?=.*[\" + \"\".join(str(x) for x in not_exist_list )  +\"]).*\"\n",
    "\n",
    "    print(\"\\nSorry, you lose\")\n",
    "        \n"
   ]
  },
  {
   "cell_type": "code",
   "execution_count": null,
   "id": "f9a174fe",
   "metadata": {
    "tags": []
   },
   "outputs": [],
   "source": [
    "words = pd.read_csv('https://github.com/dwyl/english-words/raw/master/words_alpha.txt', header=None)\n",
    "    \n",
    "#words = pd.read_csv('https://raw.githubusercontent.com/IlyaSemenov/wikipedia-word-frequency/master/results/enwiki-20190320-words-frequency.txt', sep=' ', header=None)\n"
   ]
  },
  {
   "cell_type": "code",
   "execution_count": null,
   "id": "f11b0a4e",
   "metadata": {
    "tags": []
   },
   "outputs": [],
   "source": [
    "break_wordle(6,5,words)"
   ]
  }
 ],
 "metadata": {
  "kernelspec": {
   "display_name": "Python 3 (ipykernel)",
   "language": "python",
   "name": "python3"
  },
  "language_info": {
   "codemirror_mode": {
    "name": "ipython",
    "version": 3
   },
   "file_extension": ".py",
   "mimetype": "text/x-python",
   "name": "python",
   "nbconvert_exporter": "python",
   "pygments_lexer": "ipython3",
   "version": "3.8.12"
  }
 },
 "nbformat": 4,
 "nbformat_minor": 5
}

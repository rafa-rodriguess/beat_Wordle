{
 "cells": [
  {
   "cell_type": "markdown",
   "id": "dcd25ccb-5a1e-4602-97a0-d66f31f18a7c",
   "metadata": {},
   "source": [
    "# WORDLE Breaker"
   ]
  },
  {
   "cell_type": "markdown",
   "id": "05a0cd8a-6b9a-4be9-857c-ffcdd202de7a",
   "metadata": {
    "tags": []
   },
   "source": [
    "### https://www.powerlanguage.co.uk/wordle/  "
   ]
  },
  {
   "cell_type": "code",
   "execution_count": 129,
   "id": "787e3df5-5fdb-46ae-b7e4-77e029db85d8",
   "metadata": {
    "execution": {
     "iopub.execute_input": "2022-01-07T18:36:21.482359Z",
     "iopub.status.busy": "2022-01-07T18:36:21.481361Z",
     "iopub.status.idle": "2022-01-07T18:36:22.406059Z",
     "shell.execute_reply": "2022-01-07T18:36:22.405062Z",
     "shell.execute_reply.started": "2022-01-07T18:36:21.482359Z"
    },
    "tags": []
   },
   "outputs": [],
   "source": [
    "import re\n",
    "import pandas as pd\n",
    "pd.options.mode.chained_assignment = None  # default='warn'"
   ]
  },
  {
   "cell_type": "code",
   "execution_count": 130,
   "id": "6a57db58",
   "metadata": {},
   "outputs": [],
   "source": [
    "def special_match(pattern, strg):\n",
    "    result = re.match(pattern, strg)\n",
    "    return result is not None\n"
   ]
  },
  {
   "cell_type": "code",
   "execution_count": 141,
   "id": "2f3e0006",
   "metadata": {
    "execution": {
     "iopub.execute_input": "2022-01-07T19:04:45.449089Z",
     "iopub.status.busy": "2022-01-07T19:04:45.449089Z",
     "iopub.status.idle": "2022-01-07T19:04:45.462274Z",
     "shell.execute_reply": "2022-01-07T19:04:45.461770Z",
     "shell.execute_reply.started": "2022-01-07T19:04:45.449089Z"
    },
    "tags": []
   },
   "outputs": [],
   "source": [
    "def break_wordle(attempts, word_lengh, dictionary):\n",
    "   \n",
    "    \n",
    "    correct_pos_list = [] \n",
    "    incorrect_pos_list = [] \n",
    "    exist_in_list  = []\n",
    "    not_exist_list = [\".\"]\n",
    "    not_recognized_word_list = []    \n",
    "\n",
    "    \n",
    "    correct_pos_list = incorrect_pos_list  = ([\"a-z\"] * word_lengh)\n",
    "\n",
    "    correct_pos_rex   = \"^\"+ \"\".join( \"[\" + str(x) +\"]\" for x in correct_pos_list ) +\"$\"\n",
    "    incorrect_pos_rex = \"^\"+ \"\".join( \"[\" + str(x) +\"]\" for x in incorrect_pos_list ) +\"$\"\n",
    "    exist_in_rex      = \"^.*\" + \"\".join( \"(?=.*[\" + str(x) +\"])\" for x in exist_in_list )  +\".*\"\n",
    "    not_exist_rex     = \"^.*(?=.*[\" + \"\".join(str(x) for x in not_exist_list )  +\"]).*\"\n",
    "    \n",
    "\n",
    "    for i in range(attempts):        \n",
    "        print(\"\\n###############################################################################################\")\n",
    "        print(f'''Attempt {i+1}:''')\n",
    "\n",
    "        newWordList = dictionary[dictionary[0].str.contains(correct_pos_rex)==True]\n",
    "        newWordList = newWordList[newWordList[0].str.contains(incorrect_pos_rex)==True]\n",
    "        newWordList = newWordList[newWordList[0].str.contains(exist_in_rex)==True]\n",
    "        newWordList = newWordList[newWordList[0].str.contains(not_exist_rex)==False]\n",
    "        newWordList = newWordList[newWordList[0].isin(not_recognized_word_list)==False]\n",
    "        \n",
    "        newWordList[\"var\"]=newWordList.apply(lambda x: 1-(sum([1 for y in x[0] if (x[0].count(y)-1) > 0]) / len(x[0])) , axis=1)\n",
    "        newWordList[\"weight\"]=newWordList.apply(lambda x: sum([1.5 for y in x[0] if y in ['e', 'a', 'i', 'o']]) + sum([1 for y in x[0] if y in ['t', 'n', 's', 'h', 'r']]), axis=1)\n",
    "        \n",
    " \n",
    "        newWordList = newWordList[newWordList[\"var\"]==newWordList['var'].max()]\n",
    "        newWordList = newWordList[newWordList[\"weight\"]==newWordList['weight'].max()]\n",
    "                \n",
    "        str_try = newWordList.sample()[0].item()\n",
    "        \n",
    "        print(f'''\\nInitial Regex Used:\n",
    "        Correct Pos:          {correct_pos_rex}                    \n",
    "        InCorrect Pos:        {incorrect_pos_rex}                    \n",
    "        Contain:              {exist_in_rex}\n",
    "        Does not Contain:     {not_exist_rex}\n",
    "        Not Recognized words: {not_recognized_word_list}\n",
    "        ''')\n",
    "        \n",
    "        print(f'''Try the word: {str_try}''')\n",
    "\n",
    "        resp = \"\"\n",
    "        while len(resp) != word_lengh or special_match(f'''^[r|g|y]{{{word_lengh}}}$''',resp)==False:\n",
    "            resp = input(f'''Enter {word_lengh} char sequence (no spaces)\n",
    "                            \"g\" - green \n",
    "                            \"y\" - yellow \n",
    "                            \"r\" - gray\n",
    "                            'x' - not recognized word: ''')\n",
    "            if (resp==\"x\"):\n",
    "                not_recognized_word_list.append(str_try)\n",
    "                newWordList = newWordList[newWordList[0].isin(not_recognized_word_list)==False]\n",
    "                str_try = newWordList.sample()[0].item()                \n",
    "                print(f'''\\nNew word on Attempt {i+1}''')\n",
    "                print(f'''Try the word: {str_try}''')\n",
    "            \n",
    "            \n",
    "        if (resp == 'g' * word_lengh):\n",
    "            print(\"\\nCongrats, you won!\")\n",
    "            return\n",
    "        \n",
    "        for i in range(len(resp)):   \n",
    "            if resp[i] == 'g':\n",
    "                correct_pos_list[i] = str_try[i]\n",
    "            if resp[i] == 'r':\n",
    "                not_exist_list.append(str_try[i])\n",
    "            if resp[i] == 'y':\n",
    "                if (incorrect_pos_list[i] == \"a-z\"):\n",
    "                    incorrect_pos_list[i] = \"^\" + str_try[i]\n",
    "                else:\n",
    "                    incorrect_pos_list[i] = incorrect_pos_list[i] + str_try[i]                     \n",
    "                \n",
    "                if (str_try[i] not in exist_in_list):\n",
    "                    exist_in_list.append(str_try[i])\n",
    "        \n",
    "        \n",
    "        correct_pos_rex   = \"^\"+ \"\".join( \"[\" + str(x) +\"]\" for x in correct_pos_list ) +\"$\"\n",
    "        incorrect_pos_rex = \"^\"+ \"\".join( \"[\" + str(x) +\"]\" for x in incorrect_pos_list ) +\"$\"\n",
    "        exist_in_rex      = \"^.*\" + \"\".join( \"(?=.*[\" + str(x) +\"])\" for x in exist_in_list )  +\".*\"\n",
    "        not_exist_rex     = \"^.*(?=.*[\" + \"\".join(str(x) for x in not_exist_list )  +\"]).*\"\n",
    "        \n",
    "\n",
    "    \n",
    "    print(\"\\nSorry, you lose\")\n",
    "        \n"
   ]
  },
  {
   "cell_type": "code",
   "execution_count": 142,
   "id": "f9a174fe",
   "metadata": {},
   "outputs": [],
   "source": [
    "words = pd.read_csv('https://github.com/dwyl/english-words/raw/master/words_alpha.txt', header=None)"
   ]
  },
  {
   "cell_type": "code",
   "execution_count": 143,
   "id": "b429ffb1",
   "metadata": {},
   "outputs": [
    {
     "name": "stdout",
     "output_type": "stream",
     "text": [
      "\n",
      "###############################################################################################\n",
      "Attempt 1:\n",
      "\n",
      "Initial Regex Used:\n",
      "        Correct Pos:          ^[a-z][a-z][a-z][a-z][a-z]$                    \n",
      "        InCorrect Pos:        ^[a-z][a-z][a-z][a-z][a-z]$                    \n",
      "        Contain:              ^.*.*\n",
      "        Does not Contain:     ^.*(?=.*[.]).*\n",
      "        Not Recognized words: []\n",
      "        \n",
      "Try the word: eoith\n"
     ]
    },
    {
     "ename": "KeyboardInterrupt",
     "evalue": "Interrupted by user",
     "output_type": "error",
     "traceback": [
      "\u001b[1;31m---------------------------------------------------------------------------\u001b[0m",
      "\u001b[1;31mKeyboardInterrupt\u001b[0m                         Traceback (most recent call last)",
      "\u001b[1;32m~\\AppData\\Local\\Temp/ipykernel_1440/2301001395.py\u001b[0m in \u001b[0;36m<module>\u001b[1;34m\u001b[0m\n\u001b[1;32m----> 1\u001b[1;33m \u001b[0mbreak_wordle\u001b[0m\u001b[1;33m(\u001b[0m\u001b[1;36m6\u001b[0m\u001b[1;33m,\u001b[0m\u001b[1;36m5\u001b[0m\u001b[1;33m,\u001b[0m\u001b[0mwords\u001b[0m\u001b[1;33m)\u001b[0m\u001b[1;33m\u001b[0m\u001b[1;33m\u001b[0m\u001b[0m\n\u001b[0m",
      "\u001b[1;32m~\\AppData\\Local\\Temp/ipykernel_1440/1208071752.py\u001b[0m in \u001b[0;36mbreak_wordle\u001b[1;34m(attempts, word_lengh, dictionary)\u001b[0m\n\u001b[0;32m     48\u001b[0m         \u001b[0mresp\u001b[0m \u001b[1;33m=\u001b[0m \u001b[1;34m\"\"\u001b[0m\u001b[1;33m\u001b[0m\u001b[1;33m\u001b[0m\u001b[0m\n\u001b[0;32m     49\u001b[0m         \u001b[1;32mwhile\u001b[0m \u001b[0mlen\u001b[0m\u001b[1;33m(\u001b[0m\u001b[0mresp\u001b[0m\u001b[1;33m)\u001b[0m \u001b[1;33m!=\u001b[0m \u001b[0mword_lengh\u001b[0m \u001b[1;32mor\u001b[0m \u001b[0mspecial_match\u001b[0m\u001b[1;33m(\u001b[0m\u001b[1;34mf'''^[r|g|y]{{{word_lengh}}}$'''\u001b[0m\u001b[1;33m,\u001b[0m\u001b[0mresp\u001b[0m\u001b[1;33m)\u001b[0m\u001b[1;33m==\u001b[0m\u001b[1;32mFalse\u001b[0m\u001b[1;33m:\u001b[0m\u001b[1;33m\u001b[0m\u001b[1;33m\u001b[0m\u001b[0m\n\u001b[1;32m---> 50\u001b[1;33m             resp = input(f'''Enter {word_lengh} char sequence (no spaces)\n\u001b[0m\u001b[0;32m     51\u001b[0m                             \u001b[1;34m\"g\"\u001b[0m \u001b[1;33m-\u001b[0m \u001b[0mgreen\u001b[0m\u001b[1;33m\u001b[0m\u001b[1;33m\u001b[0m\u001b[0m\n\u001b[0;32m     52\u001b[0m                             \u001b[1;34m\"y\"\u001b[0m \u001b[1;33m-\u001b[0m \u001b[0myellow\u001b[0m\u001b[1;33m\u001b[0m\u001b[1;33m\u001b[0m\u001b[0m\n",
      "\u001b[1;32mC:\\ProgramData\\Anaconda3\\lib\\site-packages\\ipykernel\\kernelbase.py\u001b[0m in \u001b[0;36mraw_input\u001b[1;34m(self, prompt)\u001b[0m\n\u001b[0;32m   1004\u001b[0m                 \u001b[1;34m\"raw_input was called, but this frontend does not support input requests.\"\u001b[0m\u001b[1;33m\u001b[0m\u001b[1;33m\u001b[0m\u001b[0m\n\u001b[0;32m   1005\u001b[0m             )\n\u001b[1;32m-> 1006\u001b[1;33m         return self._input_request(\n\u001b[0m\u001b[0;32m   1007\u001b[0m             \u001b[0mstr\u001b[0m\u001b[1;33m(\u001b[0m\u001b[0mprompt\u001b[0m\u001b[1;33m)\u001b[0m\u001b[1;33m,\u001b[0m\u001b[1;33m\u001b[0m\u001b[1;33m\u001b[0m\u001b[0m\n\u001b[0;32m   1008\u001b[0m             \u001b[0mself\u001b[0m\u001b[1;33m.\u001b[0m\u001b[0m_parent_ident\u001b[0m\u001b[1;33m[\u001b[0m\u001b[1;34m\"shell\"\u001b[0m\u001b[1;33m]\u001b[0m\u001b[1;33m,\u001b[0m\u001b[1;33m\u001b[0m\u001b[1;33m\u001b[0m\u001b[0m\n",
      "\u001b[1;32mC:\\ProgramData\\Anaconda3\\lib\\site-packages\\ipykernel\\kernelbase.py\u001b[0m in \u001b[0;36m_input_request\u001b[1;34m(self, prompt, ident, parent, password)\u001b[0m\n\u001b[0;32m   1049\u001b[0m             \u001b[1;32mexcept\u001b[0m \u001b[0mKeyboardInterrupt\u001b[0m\u001b[1;33m:\u001b[0m\u001b[1;33m\u001b[0m\u001b[1;33m\u001b[0m\u001b[0m\n\u001b[0;32m   1050\u001b[0m                 \u001b[1;31m# re-raise KeyboardInterrupt, to truncate traceback\u001b[0m\u001b[1;33m\u001b[0m\u001b[1;33m\u001b[0m\u001b[1;33m\u001b[0m\u001b[0m\n\u001b[1;32m-> 1051\u001b[1;33m                 \u001b[1;32mraise\u001b[0m \u001b[0mKeyboardInterrupt\u001b[0m\u001b[1;33m(\u001b[0m\u001b[1;34m\"Interrupted by user\"\u001b[0m\u001b[1;33m)\u001b[0m \u001b[1;32mfrom\u001b[0m \u001b[1;32mNone\u001b[0m\u001b[1;33m\u001b[0m\u001b[1;33m\u001b[0m\u001b[0m\n\u001b[0m\u001b[0;32m   1052\u001b[0m             \u001b[1;32mexcept\u001b[0m \u001b[0mException\u001b[0m\u001b[1;33m:\u001b[0m\u001b[1;33m\u001b[0m\u001b[1;33m\u001b[0m\u001b[0m\n\u001b[0;32m   1053\u001b[0m                 \u001b[0mself\u001b[0m\u001b[1;33m.\u001b[0m\u001b[0mlog\u001b[0m\u001b[1;33m.\u001b[0m\u001b[0mwarning\u001b[0m\u001b[1;33m(\u001b[0m\u001b[1;34m\"Invalid Message:\"\u001b[0m\u001b[1;33m,\u001b[0m \u001b[0mexc_info\u001b[0m\u001b[1;33m=\u001b[0m\u001b[1;32mTrue\u001b[0m\u001b[1;33m)\u001b[0m\u001b[1;33m\u001b[0m\u001b[1;33m\u001b[0m\u001b[0m\n",
      "\u001b[1;31mKeyboardInterrupt\u001b[0m: Interrupted by user"
     ]
    }
   ],
   "source": [
    "break_wordle(6,5,words)"
   ]
  },
  {
   "cell_type": "code",
   "execution_count": 132,
   "id": "ef0d0ad2",
   "metadata": {},
   "outputs": [
    {
     "data": {
      "text/plain": [
       "['a=z', 'a=z', 'a=z']"
      ]
     },
     "execution_count": 132,
     "metadata": {},
     "output_type": "execute_result"
    }
   ],
   "source": [
    "l = [\"a=z\"] * 3\n",
    "l"
   ]
  },
  {
   "cell_type": "code",
   "execution_count": null,
   "id": "3c4f5f97",
   "metadata": {},
   "outputs": [],
   "source": []
  }
 ],
 "metadata": {
  "kernelspec": {
   "display_name": "Python 3 (ipykernel)",
   "language": "python",
   "name": "python3"
  },
  "language_info": {
   "codemirror_mode": {
    "name": "ipython",
    "version": 3
   },
   "file_extension": ".py",
   "mimetype": "text/x-python",
   "name": "python",
   "nbconvert_exporter": "python",
   "pygments_lexer": "ipython3",
   "version": "3.8.11"
  }
 },
 "nbformat": 4,
 "nbformat_minor": 5
}

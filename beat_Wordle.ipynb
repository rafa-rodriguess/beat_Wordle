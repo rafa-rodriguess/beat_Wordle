{
 "cells": [
  {
   "cell_type": "markdown",
   "id": "dcd25ccb-5a1e-4602-97a0-d66f31f18a7c",
   "metadata": {},
   "source": [
    "# WORDLE Breaker"
   ]
  },
  {
   "cell_type": "markdown",
   "id": "05a0cd8a-6b9a-4be9-857c-ffcdd202de7a",
   "metadata": {
    "tags": []
   },
   "source": [
    "### https://www.powerlanguage.co.uk/wordle/  "
   ]
  },
  {
   "cell_type": "code",
   "execution_count": null,
   "id": "787e3df5-5fdb-46ae-b7e4-77e029db85d8",
   "metadata": {
    "execution": {
     "iopub.execute_input": "2022-01-07T18:36:21.482359Z",
     "iopub.status.busy": "2022-01-07T18:36:21.481361Z",
     "iopub.status.idle": "2022-01-07T18:36:22.406059Z",
     "shell.execute_reply": "2022-01-07T18:36:22.405062Z",
     "shell.execute_reply.started": "2022-01-07T18:36:21.482359Z"
    },
    "tags": []
   },
   "outputs": [],
   "source": [
    "import re\n",
    "import pandas as pd\n",
    "pd.options.mode.chained_assignment = None  # default='warn'"
   ]
  },
  {
   "cell_type": "code",
   "execution_count": null,
   "id": "6a57db58",
   "metadata": {},
   "outputs": [],
   "source": [
    "def special_match(pattern, strg):\n",
    "    result = re.match(pattern, strg)\n",
    "    return result is not None\n"
   ]
  },
  {
   "cell_type": "code",
   "execution_count": null,
   "id": "2f3e0006",
   "metadata": {
    "execution": {
     "iopub.execute_input": "2022-01-07T19:04:45.449089Z",
     "iopub.status.busy": "2022-01-07T19:04:45.449089Z",
     "iopub.status.idle": "2022-01-07T19:04:45.462274Z",
     "shell.execute_reply": "2022-01-07T19:04:45.461770Z",
     "shell.execute_reply.started": "2022-01-07T19:04:45.449089Z"
    },
    "tags": []
   },
   "outputs": [],
   "source": [
    "def break_wordle(attempts, word_lengh, dictionary):\n",
    "   \n",
    "    re_atleast_list = []\n",
    "    re_list = []                       \n",
    "    [re_list.append(\"a-z\") for x in  range(word_lengh)]\n",
    "    string_rex = \"^\"+ \"\".join( \"[\" + str(x) +\"]\" for x in re_list ) +\"$\"\n",
    "    atleast_rex = \"^.*\" + \"\".join( \"(?=.*[\" + str(x) +\"])\" for x in re_atleast_list )  +\".*\"\n",
    "    \n",
    "    for i in range(attempts):        \n",
    "        print(\"###############################################################################################\")\n",
    "        print(f'''Attempt {i+1}:''')\n",
    "\n",
    "        newWordList = dictionary[dictionary[0].str.contains(string_rex)==True]\n",
    "        newWordList = newWordList[newWordList[0].str.contains(atleast_rex)==True]\n",
    "        \n",
    "        newWordList[\"var\"]=newWordList.apply(lambda x: 1-(sum([1 for y in x[0] if (x[0].count(y)-1) > 0]) / len(x[0])) , axis=1)\n",
    "        newWordList = newWordList.sort_values(\"var\", ascending =False)\n",
    "        str_try = newWordList[0].head(1).item()\n",
    "        print(f'''Try the word: {str_try}''')\n",
    "        \n",
    "        resp = \"\"\n",
    "        while len(resp) != word_lengh and special_match('^[r|g|y]{6}$',resp)==False:\n",
    "            resp = input(f'''Insert {word_lengh} char sequence, with no spaces, cointaing \"g\" for green, \"y\" for yeallow and \"r\" for gray: ''')\n",
    "        \n",
    "        if (resp == 'g' * word_lengh):\n",
    "            print(\"Congrats, you won!\")\n",
    "            return\n",
    "        \n",
    "        for i in range(len(resp)):   \n",
    "            if resp[i] == 'g':\n",
    "                re_list[i] = str_try[i]\n",
    "            if resp[i] == 'r':\n",
    "                re_list[i] = (\"^\" + str_try[i]) if (re_list[i][0]!=\"^\") else (re_list[i] + str_try[i])\n",
    "            if resp[i] == 'y':        \n",
    "                re_atleast_list.append(str_try[i])\n",
    "        \n",
    "        \n",
    "        string_rex = \"^\"+ \"\".join( \"[\" + str(x) +\"]\" for x in re_list ) +\"$\"\n",
    "        atleast_rex = \"^.*\" + \"\".join( \"(?=.*[\" + str(x) +\"])\" for x in re_atleast_list )  +\".*\"\n",
    "        \n",
    "        print()\n",
    "    \n",
    "    print(\"Sorry, you lose\")\n",
    "        \n"
   ]
  },
  {
   "cell_type": "code",
   "execution_count": null,
   "id": "f9a174fe",
   "metadata": {},
   "outputs": [],
   "source": [
    "words = pd.read_csv('https://github.com/dwyl/english-words/raw/master/words_alpha.txt', header=None)"
   ]
  },
  {
   "cell_type": "code",
   "execution_count": null,
   "id": "654b21c5",
   "metadata": {
    "scrolled": true
   },
   "outputs": [],
   "source": [
    "break_wordle(6,5,words)"
   ]
  }
 ],
 "metadata": {
  "kernelspec": {
   "display_name": "Python 3 (ipykernel)",
   "language": "python",
   "name": "python3"
  },
  "language_info": {
   "codemirror_mode": {
    "name": "ipython",
    "version": 3
   },
   "file_extension": ".py",
   "mimetype": "text/x-python",
   "name": "python",
   "nbconvert_exporter": "python",
   "pygments_lexer": "ipython3",
   "version": "3.8.11"
  }
 },
 "nbformat": 4,
 "nbformat_minor": 5
}

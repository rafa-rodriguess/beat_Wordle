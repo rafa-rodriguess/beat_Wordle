{
 "cells": [
  {
   "cell_type": "markdown",
   "id": "dcd25ccb-5a1e-4602-97a0-d66f31f18a7c",
   "metadata": {},
   "source": [
    "# WORDLE Breaker"
   ]
  },
  {
   "cell_type": "markdown",
   "id": "05a0cd8a-6b9a-4be9-857c-ffcdd202de7a",
   "metadata": {
    "tags": []
   },
   "source": [
    "### https://www.powerlanguage.co.uk/wordle/  "
   ]
  },
  {
   "cell_type": "code",
   "execution_count": 74,
   "id": "787e3df5-5fdb-46ae-b7e4-77e029db85d8",
   "metadata": {
    "execution": {
     "iopub.execute_input": "2022-01-07T18:36:21.482359Z",
     "iopub.status.busy": "2022-01-07T18:36:21.481361Z",
     "iopub.status.idle": "2022-01-07T18:36:22.406059Z",
     "shell.execute_reply": "2022-01-07T18:36:22.405062Z",
     "shell.execute_reply.started": "2022-01-07T18:36:21.482359Z"
    },
    "tags": []
   },
   "outputs": [],
   "source": [
    "import re\n",
    "import pandas as pd\n",
    "pd.options.mode.chained_assignment = None  # default='warn'"
   ]
  },
  {
   "cell_type": "code",
   "execution_count": 75,
   "id": "6a57db58",
   "metadata": {},
   "outputs": [],
   "source": [
    "def special_match(pattern, strg):\n",
    "    result = re.match(pattern, strg)\n",
    "    return result is not None\n"
   ]
  },
  {
   "cell_type": "code",
   "execution_count": 90,
   "id": "2f3e0006",
   "metadata": {
    "execution": {
     "iopub.execute_input": "2022-01-07T19:04:45.449089Z",
     "iopub.status.busy": "2022-01-07T19:04:45.449089Z",
     "iopub.status.idle": "2022-01-07T19:04:45.462274Z",
     "shell.execute_reply": "2022-01-07T19:04:45.461770Z",
     "shell.execute_reply.started": "2022-01-07T19:04:45.449089Z"
    },
    "tags": []
   },
   "outputs": [],
   "source": [
    "def break_wordle(attempts, word_lengh, dictionary):\n",
    "   \n",
    "    re_atleast_list = []\n",
    "    re_list = [] \n",
    "    re_not_exist_list = [\".\"]\n",
    "    [re_list.append(\"a-z\") for x in  range(word_lengh)]\n",
    "    \n",
    "    string_rex = \"^\"+ \"\".join( \"[\" + str(x) +\"]\" for x in re_list ) +\"$\"\n",
    "    atleast_rex = \"^.*\" + \"\".join( \"(?=.*[\" + str(x) +\"])\" for x in re_atleast_list )  +\".*\"\n",
    "    not_exist_rex = \"^.*(?=.*[\" + \"\".join(str(x) for x in re_not_exist_list )  +\"]).*\"\n",
    "    \n",
    "\n",
    "    for i in range(attempts):        \n",
    "        print(\"\\n###############################################################################################\")\n",
    "        print(f'''Attempt {i+1}:''')\n",
    "\n",
    "        newWordList = dictionary[dictionary[0].str.contains(string_rex)==True]\n",
    "        newWordList = newWordList[newWordList[0].str.contains(atleast_rex)==True]\n",
    "        newWordList = newWordList[newWordList[0].str.contains(not_exist_rex)==False]\n",
    "        \n",
    "        newWordList[\"var\"]=newWordList.apply(lambda x: 1-(sum([1 for y in x[0] if (x[0].count(y)-1) > 0]) / len(x[0])) , axis=1)\n",
    "        newWordList[\"weight\"]=newWordList.apply(lambda x: sum([1 for y in t if y in ['e', 't', 'a', 'i', 'o', 'n', 's', 'h', 'r']]) , axis=1)\n",
    "        \n",
    " \n",
    "        newWordList = newWordList[newWordList[\"var\"]==newWordList['var'].max()]\n",
    "        newWordList = newWordList[newWordList[\"weight\"]==newWordList['weight'].max()]\n",
    "                \n",
    "        str_try = newWordList.sample()[0].item()\n",
    "        \n",
    "        print(f'''\\nInitial Regex Used:\n",
    "        green: {string_rex}                    \n",
    "        yellow: {atleast_rex}\n",
    "        gray (not in): {not_exist_rex}\n",
    "        ''')\n",
    "        \n",
    "        print(f'''Try the word: {str_try}''')\n",
    "\n",
    "        resp = \"\"\n",
    "        while len(resp) != word_lengh or special_match(f'''^[r|g|y]{{{word_lengh}}}$''',resp)==False:\n",
    "            resp = input(f'''Enter {word_lengh} char sequence (no spaces)\n",
    "                            \"g\" - green \n",
    "                            \"y\" - yellow \n",
    "                            \"r\" - gray\n",
    "                            'x' - not recognized word: ''')\n",
    "            if (resp==\"x\"):\n",
    "                str_try = newWordList.sample()[0].item()\n",
    "                print(f'''\\nNew word on Attempt {i+1}''')\n",
    "                print(f'''Try the word: {str_try}''')\n",
    "            \n",
    "            \n",
    "        if (resp == 'g' * word_lengh):\n",
    "            print(\"\\nCongrats, you won!\")\n",
    "            return\n",
    "        \n",
    "        for i in range(len(resp)):   \n",
    "            if resp[i] == 'g':\n",
    "                re_list[i] = str_try[i]\n",
    "            if resp[i] == 'r':\n",
    "                re_not_exist_list.append(str_try[i])\n",
    "            if resp[i] == 'y':\n",
    "                if (str_try[i] not in re_atleast_list):\n",
    "                    re_atleast_list.append(str_try[i])\n",
    "        \n",
    "        \n",
    "        string_rex = \"^\"+ \"\".join( \"[\" + str(x) +\"]\" for x in re_list ) +\"$\"\n",
    "        atleast_rex = \"^.*\" + \"\".join( \"(?=.*[\" + str(x) +\"])\" for x in re_atleast_list )  +\".*\"\n",
    "        not_exist_rex = \"^.*(?=.*[\" + \"\".join(str(x) for x in re_not_exist_list )  +\"]).*\"\n",
    "        \n",
    "\n",
    "    \n",
    "    print(\"\\nSorry, you lose\")\n",
    "        \n"
   ]
  },
  {
   "cell_type": "code",
   "execution_count": 72,
   "id": "f9a174fe",
   "metadata": {},
   "outputs": [],
   "source": [
    "words = pd.read_csv('https://github.com/dwyl/english-words/raw/master/words_alpha.txt', header=None)"
   ]
  },
  {
   "cell_type": "code",
   "execution_count": null,
   "id": "654b21c5",
   "metadata": {
    "scrolled": true
   },
   "outputs": [
    {
     "name": "stdout",
     "output_type": "stream",
     "text": [
      "\n",
      "###############################################################################################\n",
      "Attempt 1:\n",
      "\n",
      "Initial Regex Used:\n",
      "        green: ^[a-z][a-z][a-z][a-z][a-z]$                    \n",
      "        yellow: ^.*.*\n",
      "        gray: ^.*(?=.*[.]).*\n",
      "        \n",
      "Try the word: pales\n",
      "Enter 5 char sequence (no spaces)\n",
      "                            \"g\" - green \n",
      "                            \"y\" - yellow \n",
      "                            \"r\" - gray\n",
      "                            'x' - not recognized word: ryrrr\n",
      "\n",
      "###############################################################################################\n",
      "Attempt 2:\n",
      "\n",
      "Initial Regex Used:\n",
      "        green: ^[a-z][a-z][a-z][a-z][a-z]$                    \n",
      "        yellow: ^.*(?=.*[a]).*\n",
      "        gray: ^.*(?=.*[.ples]).*\n",
      "        \n",
      "Try the word: draco\n",
      "Enter 5 char sequence (no spaces)\n",
      "                            \"g\" - green \n",
      "                            \"y\" - yellow \n",
      "                            \"r\" - gray\n",
      "                            'x' - not recognized word: rggyr\n",
      "\n",
      "###############################################################################################\n",
      "Attempt 3:\n",
      "\n",
      "Initial Regex Used:\n",
      "        green: ^[a-z][r][a][a-z][a-z]$                    \n",
      "        yellow: ^.*(?=.*[a])(?=.*[c]).*\n",
      "        gray: ^.*(?=.*[.plesdo]).*\n",
      "        \n",
      "Try the word: fract\n",
      "Enter 5 char sequence (no spaces)\n",
      "                            \"g\" - green \n",
      "                            \"y\" - yellow \n",
      "                            \"r\" - gray\n",
      "                            'x' - not recognized word: rggyr\n",
      "\n",
      "###############################################################################################\n",
      "Attempt 4:\n",
      "\n",
      "Initial Regex Used:\n",
      "        green: ^[a-z][r][a][a-z][a-z]$                    \n",
      "        yellow: ^.*(?=.*[a])(?=.*[c]).*\n",
      "        gray: ^.*(?=.*[.plesdoft]).*\n",
      "        \n",
      "Try the word: crazy\n",
      "Enter 5 char sequence (no spaces)\n",
      "                            \"g\" - green \n",
      "                            \"y\" - yellow \n",
      "                            \"r\" - gray\n",
      "                            'x' - not recognized word: gggrr\n",
      "\n",
      "###############################################################################################\n",
      "Attempt 5:\n",
      "\n",
      "Initial Regex Used:\n",
      "        green: ^[c][r][a][a-z][a-z]$                    \n",
      "        yellow: ^.*(?=.*[a])(?=.*[c]).*\n",
      "        gray: ^.*(?=.*[.plesdoftzy]).*\n",
      "        \n",
      "Try the word: crawm\n",
      "Enter 5 char sequence (no spaces)\n",
      "                            \"g\" - green \n",
      "                            \"y\" - yellow \n",
      "                            \"r\" - gray\n",
      "                            'x' - not recognized word: x\n",
      "\n",
      "New word on Attempt 5\n",
      "Try the word: crawm\n",
      "Enter 5 char sequence (no spaces)\n",
      "                            \"g\" - green \n",
      "                            \"y\" - yellow \n",
      "                            \"r\" - gray\n",
      "                            'x' - not recognized word: x\n",
      "\n",
      "New word on Attempt 5\n",
      "Try the word: craig\n",
      "Enter 5 char sequence (no spaces)\n",
      "                            \"g\" - green \n",
      "                            \"y\" - yellow \n",
      "                            \"r\" - gray\n",
      "                            'x' - not recognized word: gggrr\n",
      "\n",
      "###############################################################################################\n",
      "Attempt 6:\n",
      "\n",
      "Initial Regex Used:\n",
      "        green: ^[c][r][a][a-z][a-z]$                    \n",
      "        yellow: ^.*(?=.*[a])(?=.*[c]).*\n",
      "        gray: ^.*(?=.*[.plesdoftzyig]).*\n",
      "        \n",
      "Try the word: crawm\n",
      "Enter 5 char sequence (no spaces)\n",
      "                            \"g\" - green \n",
      "                            \"y\" - yellow \n",
      "                            \"r\" - gray\n",
      "                            'x' - not recognized word: x\n",
      "\n",
      "New word on Attempt 6\n",
      "Try the word: crank\n"
     ]
    }
   ],
   "source": [
    "break_wordle(6,5,words)"
   ]
  },
  {
   "cell_type": "code",
   "execution_count": 41,
   "id": "acfe747e",
   "metadata": {},
   "outputs": [
    {
     "name": "stdout",
     "output_type": "stream",
     "text": [
      "4\n"
     ]
    }
   ],
   "source": [
    "t = \"house\"\n",
    "\n",
    "\n"
   ]
  },
  {
   "cell_type": "code",
   "execution_count": null,
   "id": "7cdca095",
   "metadata": {},
   "outputs": [],
   "source": []
  }
 ],
 "metadata": {
  "kernelspec": {
   "display_name": "Python 3 (ipykernel)",
   "language": "python",
   "name": "python3"
  },
  "language_info": {
   "codemirror_mode": {
    "name": "ipython",
    "version": 3
   },
   "file_extension": ".py",
   "mimetype": "text/x-python",
   "name": "python",
   "nbconvert_exporter": "python",
   "pygments_lexer": "ipython3",
   "version": "3.8.11"
  }
 },
 "nbformat": 4,
 "nbformat_minor": 5
}

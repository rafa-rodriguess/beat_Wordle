{
 "cells": [
  {
   "cell_type": "markdown",
   "id": "dcd25ccb-5a1e-4602-97a0-d66f31f18a7c",
   "metadata": {},
   "source": [
    "# WORDLE Breaker"
   ]
  },
  {
   "cell_type": "markdown",
   "id": "05a0cd8a-6b9a-4be9-857c-ffcdd202de7a",
   "metadata": {
    "tags": []
   },
   "source": [
    "### https://www.powerlanguage.co.uk/wordle/  "
   ]
  },
  {
   "cell_type": "code",
   "execution_count": null,
   "id": "787e3df5-5fdb-46ae-b7e4-77e029db85d8",
   "metadata": {
    "tags": []
   },
   "outputs": [],
   "source": [
    "import re\n",
    "import pandas as pd\n",
    "pd.options.mode.chained_assignment = None  # default='warn'"
   ]
  },
  {
   "cell_type": "code",
   "execution_count": null,
   "id": "6a57db58",
   "metadata": {
    "tags": []
   },
   "outputs": [],
   "source": [
    "def special_match(pattern, strg):\n",
    "    result = re.match(pattern, strg)\n",
    "    return result is not None\n"
   ]
  },
  {
   "cell_type": "code",
   "execution_count": null,
   "id": "2f3e0006",
   "metadata": {
    "tags": []
   },
   "outputs": [],
   "source": [
    "def break_wordle(attempts, word_lengh, dictionary, random_word_mode = False):\n",
    "    #attempts - number os attempts\n",
    "    #word_lengh - word lengh\n",
    "    #dictionary - pandas DF containing a list of words\n",
    "    #random_word_mode - if True, will get a random word of the remaining dictionary. If False, will order by\n",
    "    #                   var and weight and get the first\n",
    "    #                   var - variance. Words with mostmostly different letters on it\n",
    "    #                   weight - words with the most used letters in English\n",
    "   \n",
    "    #History of tryed word/letter. Used in the report at the end.\n",
    "    correct_pos_list = [] \n",
    "    incorrect_pos_list = [] \n",
    "    not_recognized_word_list = []        \n",
    "    regex_list = []\n",
    "    try_list = []\n",
    "    \n",
    "    #lists of words/letters used as source to create regex pattern\n",
    "    correct_pos_list    = [\"a-z\"] * word_lengh\n",
    "    incorrect_pos_list  = [\"a-z\"] * word_lengh\n",
    "    exist_in_list  = []\n",
    "    not_exist_list = [\".\"]\n",
    "    \n",
    "    #First iteration regex pattern\n",
    "    correct_pos_rex   = \"^\"+ \"\".join( \"[\" + str(x) +\"]\" for x in correct_pos_list ) +\"$\"\n",
    "    incorrect_pos_rex = \"^\"+ \"\".join( \"[\" + str(x) +\"]\" for x in incorrect_pos_list ) +\"$\"\n",
    "    exist_in_rex      = \"^.*\" + \"\".join( \"(?=.*[\" + str(x) +\"])\" for x in exist_in_list )  +\".*\"\n",
    "    not_exist_rex     = \"^.*(?=.*[\" + \"\".join(str(x) for x in not_exist_list )  +\"]).*\"\n",
    "    \n",
    "    \n",
    "    #order by most used words\n",
    "    dictionary =dictionary.sort_values([\"count\"], ascending=False)\n",
    "    \n",
    "    #run through the attempts\n",
    "    for i in range(attempts):        \n",
    "        print(\"\\n###############################################################################################\")\n",
    "        print(f'''Attempt {i+1}:''')\n",
    "        \n",
    "        print(f'''\\nRegex Used:\n",
    "        Correct Pos:          {correct_pos_rex}                    \n",
    "        InCorrect Pos:        {incorrect_pos_rex}                    \n",
    "        Contain:              {exist_in_rex}\n",
    "        Does not Contain:     {not_exist_rex}\n",
    "        Not Recognized words: {not_recognized_word_list}\n",
    "        ''')\n",
    "\n",
    "        #REGEX filters\n",
    "        #Apply filters on dictionary        \n",
    "        dictionary = dictionary[dictionary[\"word\"].str.contains(correct_pos_rex)==True]            \n",
    "        dictionary = dictionary[dictionary[\"word\"].str.contains(incorrect_pos_rex)==True]\n",
    "        dictionary = dictionary[dictionary[\"word\"].str.contains(exist_in_rex)==True]\n",
    "        dictionary = dictionary[dictionary[\"word\"].str.contains(not_exist_rex)==False]\n",
    "        dictionary = dictionary[dictionary[\"word\"].isin(not_recognized_word_list)==False]\n",
    "        \n",
    "        #history of regex used. Just for the report at the end\n",
    "        regex_list.append([correct_pos_rex, incorrect_pos_rex, exist_in_rex, not_exist_rex])\n",
    "        \n",
    "        #select the suggestion. If dictionary is empty, you lose.\n",
    "        if (len(dictionary) > 0 ):\n",
    "            if random_word_mode:\n",
    "                #choose a random work from the top 10% of the most used words\n",
    "                sort_range = 1 if int(len(dictionary) * 0.05) == 0 else int(len(dictionary) * 0.05)\n",
    "                str_try = dictionary.head(sort_range).sample()[\"word\"].item()\n",
    "            else:\n",
    "                str_try = dictionary.head(1)[\"word\"].item()  #get the first item\n",
    "                \n",
    "                \n",
    "            if (len(dictionary) == 1 ): #if dictionary has only one entry, you 'probably' won\n",
    "                print(f'''The word (probably) is: {str_try} (1 of {len(dictionary)} or {\"{:.2f}\".format(((1/len(dictionary))*100))}% of success)''')\n",
    "            else:\n",
    "                print(f'''Try the word: {str_try} (1 of {len(dictionary)} or {\"{:.2f}\".format(((1/len(dictionary))*100))}% of success)''')\n",
    "        else:\n",
    "            print(\"\\nDictionary empty. You lose\")\n",
    "            return\n",
    "\n",
    "        #wait for the wordle response.  The while is to garantee we use only the right letters b/g/y/x\n",
    "        resp = \"\"\n",
    "        while len(resp) != word_lengh or special_match(f'''^[b|g|y]{{{word_lengh}}}$''',resp)==False:\n",
    "            resp = input(f'''Enter {word_lengh} char sequence (no spaces)\n",
    "                            \"g\" - green \n",
    "                            \"y\" - yellow \n",
    "                            \"b\" - black\n",
    "                            'x' - not recognized word: ''')\n",
    "            \n",
    "            #if wordle returns a 'not recognized word (x), remove the word and select a new word \n",
    "            #from the dictionary, but dont miss the attempt\n",
    "            if (resp==\"x\"):\n",
    "                not_recognized_word_list.append(str_try)\n",
    "                dictionary = dictionary[dictionary[\"word\"].isin(not_recognized_word_list)==False]\n",
    "                if random_word_mode:\n",
    "                    #choose a random work from the top 10% of the most used words                    \n",
    "                    sort_range = 1 if int(len(dictionary) * 0.05) == 0 else int(len(dictionary) * 0.05)\n",
    "                    str_try = dictionary.head(sort_range).sample()[\"word\"].item()\n",
    "                else:\n",
    "                    str_try = dictionary.head(1)[\"word\"].item() #get the first one               \n",
    "                \n",
    "                print(f'''\\nNew word on Attempt {i+1}''')\n",
    "                print(f'''Try the word: {str_try} (1 of {len(dictionary)} or {\"{:.2f}\".format(((1/len(dictionary))*100))}% of success)''')\n",
    "            else:\n",
    "                if (str_try not in try_list):\n",
    "                    try_list.append(str_try)\n",
    "                \n",
    "        #if the response are all 'g' means that we have won the game\n",
    "        if (resp == 'g' * word_lengh):\n",
    "            print(\"\\nCongrats, you won!\")\n",
    "            for x in range(len(try_list)):\n",
    "                print(f'''\n",
    "                        Word: {try_list[x]}\n",
    "                        Regex Used:\n",
    "                            Correct Pos:     {regex_list[x][0]}                    \n",
    "                            InCorrect Pos:   {regex_list[x][1]}                    \n",
    "                            Contain:         {regex_list[x][2]}\n",
    "                            Does not Contain:{regex_list[x][3]}\n",
    "                            List of not recognized words tried:\n",
    "                                {not_recognized_word_list} ''')            \n",
    "            return\n",
    "        \n",
    "        #Update the lists of words/letters used as source to create regex pattern,\n",
    "        #for each y,b and g\n",
    "        for k in range(len(resp)):   \n",
    "            if resp[k] == 'g': \n",
    "                correct_pos_list[k] = str_try[k]\n",
    "            if resp[k] == 'b':\n",
    "                if (not_exist_list[0] == \".\"):\n",
    "                    not_exist_list[0] = str_try[k]\n",
    "                else:\n",
    "                    not_exist_list.append(str_try[k])\n",
    "            if resp[k] == 'y':\n",
    "                if (incorrect_pos_list[k] == \"a-z\"):\n",
    "                    incorrect_pos_list[k] = \"^\" + str_try[k]\n",
    "                else:\n",
    "                    incorrect_pos_list[k] = incorrect_pos_list[k] + str_try[k]                     \n",
    "                \n",
    "                if (str_try[k] not in exist_in_list):\n",
    "                    exist_in_list.append(str_try[k])\n",
    "        \n",
    "        temp_list = not_exist_list.copy()\n",
    "        for k in range(len(not_exist_list)):\n",
    "            if (not_exist_list[k] in correct_pos_list):\n",
    "                temp_list.remove(not_exist_list[k])\n",
    "                y =  correct_pos_list.index(not_exist_list[k])\n",
    "                for x in range(len(incorrect_pos_list)):              \n",
    "                    if (x != y):\n",
    "                        if (incorrect_pos_list[x] == \"a-z\"):\n",
    "                            incorrect_pos_list[x] = \"^\" + not_exist_list[k]\n",
    "                        else:\n",
    "                            incorrect_pos_list[x] = incorrect_pos_list[x] + not_exist_list[k]                     \n",
    "        \n",
    "        not_exist_list = temp_list.copy()\n",
    "        \n",
    "        #Update the Regex pattern that will be used on the next iteraction\n",
    "        correct_pos_rex   = \"^\"+ \"\".join( \"[\" + str(x) +\"]\" for x in correct_pos_list ) +\"$\"\n",
    "        incorrect_pos_rex = \"^\"+ \"\".join( \"[\" + str(x) +\"]\" for x in incorrect_pos_list ) +\"$\"\n",
    "        exist_in_rex      = \"^.*\" + \"\".join( \"(?=.*[\" + str(x) +\"])\" for x in exist_in_list )  +\".*\"\n",
    "        not_exist_rex     = \"^.*(?=.*[\" + \"\".join(str(x) for x in not_exist_list )  +\"]).*\"\n",
    "\n",
    "    print(\"\\nSorry, you lose\")\n",
    "        \n"
   ]
  },
  {
   "cell_type": "markdown",
   "id": "587fb468-2572-48de-83e3-9ac2494f0f28",
   "metadata": {},
   "source": [
    "#### Download dictionary and call function"
   ]
  },
  {
   "cell_type": "code",
   "execution_count": null,
   "id": "f11b0a4e",
   "metadata": {
    "tags": []
   },
   "outputs": [],
   "source": [
    "#words = pd.read_csv('https://github.com/dwyl/english-words/raw/master/words_alpha.txt', header=None)\n",
    "words_wiki = pd.read_csv('https://raw.githubusercontent.com/IlyaSemenov/wikipedia-word-frequency/master/results/enwiki-20190320-words-frequency.txt', header=None, sep=' ', names = ['word','count'])\n",
    "#words_wiki= words_wiki[words_wiki.word.isin(words[0])]\n",
    "#words_wiki"
   ]
  },
  {
   "cell_type": "code",
   "execution_count": null,
   "id": "5cc4e72f-79dc-4cf9-a2aa-0d70ce074ae2",
   "metadata": {
    "tags": []
   },
   "outputs": [],
   "source": [
    "break_wordle(6,5,words_wiki)"
   ]
  },
  {
   "cell_type": "code",
   "execution_count": null,
   "id": "6dd527ec-c4a5-4a90-9904-b81bc140c84f",
   "metadata": {},
   "outputs": [],
   "source": []
  }
 ],
 "metadata": {
  "kernelspec": {
   "display_name": "Python 3 (ipykernel)",
   "language": "python",
   "name": "python3"
  },
  "language_info": {
   "codemirror_mode": {
    "name": "ipython",
    "version": 3
   },
   "file_extension": ".py",
   "mimetype": "text/x-python",
   "name": "python",
   "nbconvert_exporter": "python",
   "pygments_lexer": "ipython3",
   "version": "3.8.12"
  }
 },
 "nbformat": 4,
 "nbformat_minor": 5
}

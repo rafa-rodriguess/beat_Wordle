{
 "cells": [
  {
   "cell_type": "markdown",
   "id": "dcd25ccb-5a1e-4602-97a0-d66f31f18a7c",
   "metadata": {},
   "source": [
    "# WORDLE Breaker"
   ]
  },
  {
   "cell_type": "markdown",
   "id": "05a0cd8a-6b9a-4be9-857c-ffcdd202de7a",
   "metadata": {
    "tags": []
   },
   "source": [
    "### https://www.powerlanguage.co.uk/wordle/  "
   ]
  },
  {
   "cell_type": "code",
   "execution_count": 9,
   "id": "787e3df5-5fdb-46ae-b7e4-77e029db85d8",
   "metadata": {
    "execution": {
     "iopub.execute_input": "2022-01-20T18:33:27.648427Z",
     "iopub.status.busy": "2022-01-20T18:33:27.648427Z",
     "iopub.status.idle": "2022-01-20T18:33:27.660420Z",
     "shell.execute_reply": "2022-01-20T18:33:27.659609Z",
     "shell.execute_reply.started": "2022-01-20T18:33:27.648427Z"
    },
    "tags": []
   },
   "outputs": [],
   "source": [
    "import re\n",
    "import pandas as pd\n",
    "pd.options.mode.chained_assignment = None  # default='warn'"
   ]
  },
  {
   "cell_type": "code",
   "execution_count": 10,
   "id": "6a57db58",
   "metadata": {
    "execution": {
     "iopub.execute_input": "2022-01-20T18:33:27.662113Z",
     "iopub.status.busy": "2022-01-20T18:33:27.661389Z",
     "iopub.status.idle": "2022-01-20T18:33:27.676792Z",
     "shell.execute_reply": "2022-01-20T18:33:27.675662Z",
     "shell.execute_reply.started": "2022-01-20T18:33:27.661389Z"
    },
    "tags": []
   },
   "outputs": [],
   "source": [
    "def special_match(pattern, strg):\n",
    "    result = re.match(pattern, strg)\n",
    "    return result is not None\n"
   ]
  },
  {
   "cell_type": "code",
   "execution_count": 15,
   "id": "2f3e0006",
   "metadata": {
    "execution": {
     "iopub.execute_input": "2022-01-20T18:43:58.760982Z",
     "iopub.status.busy": "2022-01-20T18:43:58.760386Z",
     "iopub.status.idle": "2022-01-20T18:43:58.799242Z",
     "shell.execute_reply": "2022-01-20T18:43:58.798961Z",
     "shell.execute_reply.started": "2022-01-20T18:43:58.760982Z"
    },
    "tags": []
   },
   "outputs": [],
   "source": [
    "def break_wordle(attempts, word_lengh, dictionary, random_word_mode = False):\n",
    "    #attempts - number os attempts\n",
    "    #word_lengh - word lengh\n",
    "    #dictionary - pandas DF containing a list of words\n",
    "    #random_word_mode - if True, will get a random word of the remaining dictionary. If False, will order by\n",
    "    #                   var and weight and get the first\n",
    "    #                   var - variance. Words with mostmostly different letters on it\n",
    "    #                   weight - words with the most used letters in English\n",
    "   \n",
    "    #History of tryed word/letter. Used in the report at the end.\n",
    "    correct_pos_list = [] \n",
    "    incorrect_pos_list = [] \n",
    "    not_recognized_word_list = []        \n",
    "    regex_list = []\n",
    "    try_list = []\n",
    "    \n",
    "    #lists of words/letters used as source to create regex pattern\n",
    "    correct_pos_list    = [\"a-z\"] * word_lengh\n",
    "    incorrect_pos_list  = [\"a-z\"] * word_lengh\n",
    "    exist_in_list  = []\n",
    "    not_exist_list = [\".\"]\n",
    "    \n",
    "    #First iteration regex pattern\n",
    "    correct_pos_rex   = \"^\"+ \"\".join( \"[\" + str(x) +\"]\" for x in correct_pos_list ) +\"$\"\n",
    "    incorrect_pos_rex = \"^\"+ \"\".join( \"[\" + str(x) +\"]\" for x in incorrect_pos_list ) +\"$\"\n",
    "    exist_in_rex      = \"^.*\" + \"\".join( \"(?=.*[\" + str(x) +\"])\" for x in exist_in_list )  +\".*\"\n",
    "    not_exist_rex     = \"^.*(?=.*[\" + \"\".join(str(x) for x in not_exist_list )  +\"]).*\"\n",
    "    \n",
    "    #run through the attempts\n",
    "    for i in range(attempts):        \n",
    "        print(\"\\n###############################################################################################\")\n",
    "        print(f'''Attempt {i+1}:''')\n",
    "        \n",
    "        print(f'''\\nRegex Used:\n",
    "        Correct Pos:          {correct_pos_rex}                    \n",
    "        InCorrect Pos:        {incorrect_pos_rex}                    \n",
    "        Contain:              {exist_in_rex}\n",
    "        Does not Contain:     {not_exist_rex}\n",
    "        Not Recognized words: {not_recognized_word_list}\n",
    "        ''')\n",
    "\n",
    "        #REGEX filters\n",
    "        #first iteraction, create a copy of original dictonary received. After that, the dictionary keep\n",
    "        #getting smaller as we filter it.        \n",
    "        if (i==0):            \n",
    "            newWordList = dictionary[dictionary[0].str.contains(correct_pos_rex)==True]\n",
    "        else:\n",
    "            newWordList = newWordList[newWordList[0].str.contains(correct_pos_rex)==True]            \n",
    "        newWordList = newWordList[newWordList[0].str.contains(incorrect_pos_rex)==True]\n",
    "        newWordList = newWordList[newWordList[0].str.contains(exist_in_rex)==True]\n",
    "        newWordList = newWordList[newWordList[0].str.contains(not_exist_rex)==False]\n",
    "        newWordList = newWordList[newWordList[0].isin(not_recognized_word_list)==False]\n",
    "        \n",
    "        #history of regex used. Just for the report at the end\n",
    "        regex_list.append([correct_pos_rex, incorrect_pos_rex, exist_in_rex, not_exist_rex])\n",
    "       \n",
    "        #first iteraction, create two variables - var and weight.\n",
    "        #var - variance. Words with mostmostly different letters on it\n",
    "        #weight - words with the most used letters in English\n",
    "        #order by descending on those two variables\n",
    "        if (i==0):\n",
    "            newWordList[\"var\"]=newWordList.apply(lambda x: 1-(sum([1 for y in x[0] if (x[0].count(y)-1) > 0]) / len(x[0])) , axis=1)\n",
    "            newWordList[\"weight\"]=newWordList.apply(lambda x: sum([1.5 for y in x[0] if y in ['e', 'a', 'i', 'o']]) + sum([1 for y in x[0] if y in ['t', 'n', 's', 'h', 'r']]), axis=1)\n",
    "            newWordList =newWordList.sort_values([\"var\", \"weight\"], ascending=False)\n",
    "\n",
    "        \n",
    "        #select the suggestion. If dictionary is empty, you lose.\n",
    "        if (len(newWordList) > 0 ):\n",
    "            if random_word_mode:\n",
    "                str_try = newWordList.sample()[0].item()  #get a random word\n",
    "            else:\n",
    "                str_try = newWordList.head(1)[0].item()  #get the first item\n",
    "            if (len(newWordList) == 1 ): #if dictionary has only one entry, you 'probably' won\n",
    "                print(f'''The word (probably) is: {str_try} (1 of {len(newWordList)} or {\"{:.2f}\".format(((1/len(newWordList))*100))}% of success)''')\n",
    "            else:\n",
    "                print(f'''Try the word: {str_try} (1 of {len(newWordList)} or {\"{:.2f}\".format(((1/len(newWordList))*100))}% of success)''')\n",
    "        else:\n",
    "            print(\"\\nDictionary empty. You lose\")\n",
    "            return\n",
    "\n",
    "        #wait for the wordle response.  The while is to garantee we use only the right letters b/g/y/x\n",
    "        resp = \"\"\n",
    "        while len(resp) != word_lengh or special_match(f'''^[b|g|y]{{{word_lengh}}}$''',resp)==False:\n",
    "            resp = input(f'''Enter {word_lengh} char sequence (no spaces)\n",
    "                            \"g\" - green \n",
    "                            \"y\" - yellow \n",
    "                            \"b\" - black\n",
    "                            'x' - not recognized word: ''')\n",
    "            \n",
    "            #if wordle returns a 'not recognized word (x), remove the word and select a new word \n",
    "            #from the dictionary, but dont miss the attempt\n",
    "            if (resp==\"x\"):\n",
    "                not_recognized_word_list.append(str_try)\n",
    "                newWordList = newWordList[newWordList[0].isin(not_recognized_word_list)==False]\n",
    "                if random_word_mode:\n",
    "                    str_try = newWordList.sample()[0].item()  #get a random word\n",
    "                else:\n",
    "                    str_try = newWordList.head(1)[0].item() #get the first one               \n",
    "                \n",
    "                print(f'''\\nNew word on Attempt {i+1}''')\n",
    "                print(f'''Try the word: {str_try} (1 of {len(newWordList)} or {\"{:.2f}\".format(((1/len(newWordList))*100))}% of success)''')\n",
    "            else:\n",
    "                if (str_try not in try_list):\n",
    "                    try_list.append(str_try)\n",
    "                \n",
    "        #if the response are all 'g' means that we have won the game\n",
    "        if (resp == 'g' * word_lengh):\n",
    "            print(\"\\nCongrats, you won!\")\n",
    "            for x in range(len(try_list)):\n",
    "                print(f'''\n",
    "                        Word: {try_list[x]}\n",
    "                        Regex Used:\n",
    "                            Correct Pos:     {regex_list[x][0]}                    \n",
    "                            InCorrect Pos:   {regex_list[x][1]}                    \n",
    "                            Contain:         {regex_list[x][2]}\n",
    "                            Does not Contain:{regex_list[x][3]}\n",
    "                            List of not recognized words tried:\n",
    "                                {not_recognized_word_list} ''')            \n",
    "            return\n",
    "        \n",
    "        #Update the lists of words/letters used as source to create regex pattern,\n",
    "        #for each y,b and g\n",
    "        for k in range(len(resp)):   \n",
    "            if resp[k] == 'g': \n",
    "                correct_pos_list[k] = str_try[k]\n",
    "            if resp[k] == 'b':\n",
    "                if (not_exist_list[0] == \".\"):\n",
    "                    not_exist_list[0] = str_try[k]\n",
    "                else:\n",
    "                    not_exist_list.append(str_try[k])\n",
    "            if resp[k] == 'y':\n",
    "                if (incorrect_pos_list[k] == \"a-z\"):\n",
    "                    incorrect_pos_list[k] = \"^\" + str_try[k]\n",
    "                else:\n",
    "                    incorrect_pos_list[k] = incorrect_pos_list[k] + str_try[k]                     \n",
    "                \n",
    "                if (str_try[k] not in exist_in_list):\n",
    "                    exist_in_list.append(str_try[k])\n",
    "        \n",
    "        temp_list = not_exist_list.copy()\n",
    "        for k in range(len(not_exist_list)):\n",
    "            if (not_exist_list[k] in correct_pos_list):\n",
    "                temp_list.remove(not_exist_list[k])\n",
    "                y =  correct_pos_list.index(not_exist_list[k])\n",
    "                for x in range(len(incorrect_pos_list)):              \n",
    "                    if (x != y):\n",
    "                        if (incorrect_pos_list[x] == \"a-z\"):\n",
    "                            incorrect_pos_list[x] = \"^\" + not_exist_list[k]\n",
    "                        else:\n",
    "                            incorrect_pos_list[x] = incorrect_pos_list[x] + not_exist_list[k]                     \n",
    "        \n",
    "        not_exist_list = temp_list.copy()\n",
    "        \n",
    "        #Update the Regex pattern that will be used on the next iteraction\n",
    "        correct_pos_rex   = \"^\"+ \"\".join( \"[\" + str(x) +\"]\" for x in correct_pos_list ) +\"$\"\n",
    "        incorrect_pos_rex = \"^\"+ \"\".join( \"[\" + str(x) +\"]\" for x in incorrect_pos_list ) +\"$\"\n",
    "        exist_in_rex      = \"^.*\" + \"\".join( \"(?=.*[\" + str(x) +\"])\" for x in exist_in_list )  +\".*\"\n",
    "        not_exist_rex     = \"^.*(?=.*[\" + \"\".join(str(x) for x in not_exist_list )  +\"]).*\"\n",
    "\n",
    "    print(\"\\nSorry, you lose\")\n",
    "        \n"
   ]
  },
  {
   "cell_type": "markdown",
   "id": "587fb468-2572-48de-83e3-9ac2494f0f28",
   "metadata": {},
   "source": [
    "#### Download dictionary and call function"
   ]
  },
  {
   "cell_type": "code",
   "execution_count": null,
   "id": "f11b0a4e",
   "metadata": {
    "execution": {
     "iopub.execute_input": "2022-01-20T18:44:02.821787Z",
     "iopub.status.busy": "2022-01-20T18:44:02.821787Z"
    },
    "tags": []
   },
   "outputs": [
    {
     "name": "stdout",
     "output_type": "stream",
     "text": [
      "\n",
      "###############################################################################################\n",
      "Attempt 1:\n",
      "\n",
      "Regex Used:\n",
      "        Correct Pos:          ^[a-z][a-z][a-z][a-z][a-z]$                    \n",
      "        InCorrect Pos:        ^[a-z][a-z][a-z][a-z][a-z]$                    \n",
      "        Contain:              ^.*.*\n",
      "        Does not Contain:     ^.*(?=.*[.]).*\n",
      "        Not Recognized words: []\n",
      "        \n",
      "Try the word: erase (1 of 15918 or 0.01% of success)\n"
     ]
    },
    {
     "name": "stdin",
     "output_type": "stream",
     "text": [
      "Enter 5 char sequence (no spaces)\n",
      "                            \"g\" - green \n",
      "                            \"y\" - yellow \n",
      "                            \"b\" - black\n",
      "                            'x' - not recognized word:  bybbb\n"
     ]
    },
    {
     "name": "stdout",
     "output_type": "stream",
     "text": [
      "\n",
      "###############################################################################################\n",
      "Attempt 2:\n",
      "\n",
      "Regex Used:\n",
      "        Correct Pos:          ^[a-z][a-z][a-z][a-z][a-z]$                    \n",
      "        InCorrect Pos:        ^[a-z][^r][a-z][a-z][a-z]$                    \n",
      "        Contain:              ^.*(?=.*[r]).*\n",
      "        Does not Contain:     ^.*(?=.*[ease]).*\n",
      "        Not Recognized words: []\n",
      "        \n",
      "Try the word: inorg (1 of 477 or 0.21% of success)\n"
     ]
    },
    {
     "name": "stdin",
     "output_type": "stream",
     "text": [
      "Enter 5 char sequence (no spaces)\n",
      "                            \"g\" - green \n",
      "                            \"y\" - yellow \n",
      "                            \"b\" - black\n",
      "                            'x' - not recognized word:  x\n"
     ]
    },
    {
     "name": "stdout",
     "output_type": "stream",
     "text": [
      "\n",
      "New word on Attempt 2\n",
      "Try the word: tudor (1 of 476 or 0.21% of success)\n"
     ]
    },
    {
     "name": "stdin",
     "output_type": "stream",
     "text": [
      "Enter 5 char sequence (no spaces)\n",
      "                            \"g\" - green \n",
      "                            \"y\" - yellow \n",
      "                            \"b\" - black\n",
      "                            'x' - not recognized word:  x\n"
     ]
    },
    {
     "name": "stdout",
     "output_type": "stream",
     "text": [
      "\n",
      "New word on Attempt 2\n",
      "Try the word: xyrid (1 of 475 or 0.21% of success)\n"
     ]
    },
    {
     "name": "stdin",
     "output_type": "stream",
     "text": [
      "Enter 5 char sequence (no spaces)\n",
      "                            \"g\" - green \n",
      "                            \"y\" - yellow \n",
      "                            \"b\" - black\n",
      "                            'x' - not recognized word:  x\n"
     ]
    },
    {
     "name": "stdout",
     "output_type": "stream",
     "text": [
      "\n",
      "New word on Attempt 2\n",
      "Try the word: twirk (1 of 474 or 0.21% of success)\n"
     ]
    },
    {
     "name": "stdin",
     "output_type": "stream",
     "text": [
      "Enter 5 char sequence (no spaces)\n",
      "                            \"g\" - green \n",
      "                            \"y\" - yellow \n",
      "                            \"b\" - black\n",
      "                            'x' - not recognized word:  x\n"
     ]
    },
    {
     "name": "stdout",
     "output_type": "stream",
     "text": [
      "\n",
      "New word on Attempt 2\n",
      "Try the word: bourd (1 of 473 or 0.21% of success)\n"
     ]
    },
    {
     "name": "stdin",
     "output_type": "stream",
     "text": [
      "Enter 5 char sequence (no spaces)\n",
      "                            \"g\" - green \n",
      "                            \"y\" - yellow \n",
      "                            \"b\" - black\n",
      "                            'x' - not recognized word:  ygbyb\n"
     ]
    },
    {
     "name": "stdout",
     "output_type": "stream",
     "text": [
      "\n",
      "###############################################################################################\n",
      "Attempt 3:\n",
      "\n",
      "Regex Used:\n",
      "        Correct Pos:          ^[a-z][o][a-z][a-z][a-z]$                    \n",
      "        InCorrect Pos:        ^[^b][^r][a-z][^r][a-z]$                    \n",
      "        Contain:              ^.*(?=.*[r])(?=.*[b]).*\n",
      "        Does not Contain:     ^.*(?=.*[easeud]).*\n",
      "        Not Recognized words: ['inorg', 'tudor', 'xyrid', 'twirk']\n",
      "        \n",
      "Try the word: robot (1 of 5 or 20.00% of success)\n"
     ]
    }
   ],
   "source": [
    "words = pd.read_csv('https://github.com/dwyl/english-words/raw/master/words_alpha.txt', header=None)\n",
    "break_wordle(6,5,words, True)"
   ]
  },
  {
   "cell_type": "code",
   "execution_count": null,
   "id": "0f6a7cc3-7e8e-45d8-a309-960a2a969918",
   "metadata": {},
   "outputs": [],
   "source": []
  }
 ],
 "metadata": {
  "kernelspec": {
   "display_name": "Python 3 (ipykernel)",
   "language": "python",
   "name": "python3"
  },
  "language_info": {
   "codemirror_mode": {
    "name": "ipython",
    "version": 3
   },
   "file_extension": ".py",
   "mimetype": "text/x-python",
   "name": "python",
   "nbconvert_exporter": "python",
   "pygments_lexer": "ipython3",
   "version": "3.8.12"
  }
 },
 "nbformat": 4,
 "nbformat_minor": 5
}
